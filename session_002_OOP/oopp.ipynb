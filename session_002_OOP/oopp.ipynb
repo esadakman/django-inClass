{
 "cells": [
  {
   "cell_type": "code",
   "execution_count": 1,
   "metadata": {},
   "outputs": [
    {
     "data": {
      "text/plain": [
       "0"
      ]
     },
     "execution_count": 1,
     "metadata": {},
     "output_type": "execute_result"
    }
   ],
   "source": [
    "import os\n",
    "os.system('cls' if os.name == 'nt' else 'clear')"
   ]
  },
  {
   "cell_type": "code",
   "execution_count": 2,
   "metadata": {},
   "outputs": [
    {
     "name": "stdout",
     "output_type": "stream",
     "text": [
      "Victor\n",
      "Developer\n"
     ]
    }
   ],
   "source": [
    "# class Person:\n",
    "#     name = \"Victor\"\n",
    "#     age = 32\n",
    "\n",
    "# #? Person class'ından obje (instance) üretiyoruz 👇\n",
    "# person1 = Person()\n",
    "# person2 = Person()\n",
    "\n",
    "# print(person1.name) #Victor\n",
    "\n",
    "# #? Class'ımıza yeni bir attribute ekledik. Bu class'tan üretilmiş instance'larda bu özellik geçerli oluyor. \n",
    "# Person.job = \"Developer\"\n",
    "\n",
    "# print(person2.job)\n"
   ]
  },
  {
   "cell_type": "code",
   "execution_count": 4,
   "metadata": {},
   "outputs": [
    {
     "name": "stdout",
     "output_type": "stream",
     "text": [
      "25\n",
      "32\n"
     ]
    }
   ],
   "source": [
    "class Person:\n",
    "    name = \"Victor\"\n",
    "    age = 32\n",
    "\n",
    "#? Person class'ından obje (instance) üretiyoruz 👇\n",
    "person1 = Person()\n",
    "person2 = Person()\n",
    "\n",
    "#? Class'ımıza yeni bir attribute ekledik. Bu class'tan üretilmiş instance'larda bu özellik geçerli oluyor. \n",
    "person1.location = \"Turkey\"\n",
    "person1.age = 25\n",
    "\n",
    "print(person1.age)\n",
    "print(person2.age)\n"
   ]
  },
  {
   "cell_type": "code",
   "execution_count": 7,
   "metadata": {},
   "outputs": [
    {
     "name": "stdout",
     "output_type": "stream",
     "text": [
      "test\n",
      "barry 20\n"
     ]
    }
   ],
   "source": [
    "class Person:\n",
    "    company = \"clarusway\"\n",
    "\n",
    "    def test(self):\n",
    "        print(\"test\")\n",
    "\n",
    "    def set_details(self, name, age):\n",
    "        self.name = name\n",
    "        self.age = age\n",
    "\n",
    "    def get_details(self):\n",
    "        print(self.name, self.age)\n",
    "        \n",
    "\n",
    "person1 = Person()\n",
    "person2 = Person()\n",
    "\n",
    "person1.test()\n",
    "# Person.test(person1)  python arkada bu şekle dönüştürüyor ve o yüzden üstteki çalışmıyor.(arguman gönderdin diyor) def tanımlamasına self ekleyerek sorunu çözebiliriz.\n",
    "person1.set_details(\"barry\", 20)\n",
    "person1.get_details()\n"
   ]
  },
  {
   "cell_type": "code",
   "execution_count": 8,
   "metadata": {},
   "outputs": [
    {
     "name": "stdout",
     "output_type": "stream",
     "text": [
      "victor 30\n",
      "Hi there!\n"
     ]
    }
   ],
   "source": [
    "class Person:\n",
    "    company = \"clarusway\"\n",
    "\n",
    "    def test(self):\n",
    "        print(\"test\")\n",
    "\n",
    "    def set_details(self, name, age):\n",
    "        self.name = name\n",
    "        self.age = age\n",
    "\n",
    "    def get_details(self):\n",
    "        print(self.name, self.age)\n",
    "\n",
    "    @staticmethod\n",
    "    def salute():\n",
    "        print(\"Hi there!\")\n",
    "\n",
    "\n",
    "person1 = Person()\n",
    "person2 = Person()\n",
    "\n",
    "# person1.test()\n",
    "# Person.test(person1)  python arkada bu şekle dönüştürüyor ve o yüzden üstteki çalışmıyor.(arguman gönderdin diyor) def tanımlamasına self ekleyerek sorunu çözebiliriz.\n",
    "person1.set_details(\"victor\", 30)\n",
    "person1.get_details()\n",
    "\n",
    "person1.salute()"
   ]
  },
  {
   "cell_type": "code",
   "execution_count": 11,
   "metadata": {},
   "outputs": [
    {
     "name": "stdout",
     "output_type": "stream",
     "text": [
      "henry 18\n"
     ]
    }
   ],
   "source": [
    "#! special methods (init, str)\n",
    "\n",
    "class Person:\n",
    "    company =\"clarusway\"\n",
    "\n",
    "    def __init__(self, name, age):\n",
    "        self.name = name\n",
    "        self.age = age\n",
    "\n",
    "    def get_details(self):\n",
    "        print(self.name, self.age)\n",
    "        \n",
    "person1 = Person(\"henry\", 18)\n",
    "person1.get_details()"
   ]
  },
  {
   "cell_type": "code",
   "execution_count": 19,
   "metadata": {},
   "outputs": [
    {
     "name": "stdout",
     "output_type": "stream",
     "text": [
      "henry - 18\n",
      "dwight - 22\n"
     ]
    }
   ],
   "source": [
    "#! special methods (init, str)\n",
    "\n",
    "class Person:\n",
    "    company =\"clarusway\"\n",
    "\n",
    "    def __init__(self, name, age ):\n",
    "        self.name = name\n",
    "        self.age = age \n",
    "\n",
    "\n",
    "    def get_details(self):\n",
    "        print(self.name, self.age,)\n",
    "\n",
    "    def __str__(self):\n",
    "        return f\"{self.name} - {self.age}\"\n",
    "\n",
    "        \n",
    "person1 = Person(\"henry\", 18)\n",
    "# person1.get_details()\n",
    "\n",
    "person2 = Person(\"dwight\", 22)\n",
    "# person2.get_details()\n",
    "\n",
    "print(person1)\n",
    "print(person2)\n"
   ]
  },
  {
   "cell_type": "code",
   "execution_count": 20,
   "metadata": {},
   "outputs": [
    {
     "name": "stdout",
     "output_type": "stream",
     "text": [
      "victor - 32\n"
     ]
    }
   ],
   "source": [
    "#! special methods (init, str)\n",
    "\n",
    "class Person:\n",
    "    company = \"clarusway\"\n",
    "\n",
    "    def __init__(self, name, age):\n",
    "        self.name = name\n",
    "        self.age = age\n",
    "\n",
    "    def get_details(self):\n",
    "        print(self.name, self.age)\n",
    "\n",
    "    def __str__(self):    #  print(person1) yaparsak ve str yoksa bize adresini ve nereden türedildiğini döndürür ama str varsa buradakileri döndürür. arka planda print(person1.__str__) çalışıyor.\n",
    "        return f\"{self.name} - {self.age}\"\n",
    "\n",
    "person1 = Person(\"victor\", 32)   # init methodu sayesinde arguman gönderip direk oluşturabiliriz.\n",
    "# person1.get_details()\n",
    "\n",
    "person2 = Person(\"selcuk\", 22)\n",
    "# person2.get_details()\n",
    "\n",
    "\n",
    "\n",
    "print(person1)"
   ]
  },
  {
   "cell_type": "code",
   "execution_count": 24,
   "metadata": {},
   "outputs": [
    {
     "name": "stdout",
     "output_type": "stream",
     "text": [
      "4000\n"
     ]
    },
    {
     "ename": "AttributeError",
     "evalue": "'Person' object has no attribute '__id'",
     "output_type": "error",
     "traceback": [
      "\u001b[1;31m---------------------------------------------------------------------------\u001b[0m",
      "\u001b[1;31mAttributeError\u001b[0m                            Traceback (most recent call last)",
      "\u001b[1;32mc:\\Users\\esadd\\Desktop\\IT\\django\\In-Class\\session_002_OOP\\oopp.ipynb Hücre 9\u001b[0m in \u001b[0;36m<module>\u001b[1;34m\u001b[0m\n\u001b[0;32m     <a href='vscode-notebook-cell:/c%3A/Users/esadd/Desktop/IT/django/In-Class/session_002_OOP/oopp.ipynb#X11sZmlsZQ%3D%3D?line=20'>21</a>\u001b[0m person1\u001b[39m.\u001b[39m_id \u001b[39m=\u001b[39m \u001b[39m4000\u001b[39m\n\u001b[0;32m     <a href='vscode-notebook-cell:/c%3A/Users/esadd/Desktop/IT/django/In-Class/session_002_OOP/oopp.ipynb#X11sZmlsZQ%3D%3D?line=22'>23</a>\u001b[0m \u001b[39mprint\u001b[39m(person1\u001b[39m.\u001b[39m_id) \u001b[39m# 4000\u001b[39;00m\n\u001b[1;32m---> <a href='vscode-notebook-cell:/c%3A/Users/esadd/Desktop/IT/django/In-Class/session_002_OOP/oopp.ipynb#X11sZmlsZQ%3D%3D?line=23'>24</a>\u001b[0m \u001b[39mprint\u001b[39m(person1\u001b[39m.\u001b[39;49m__id)\n",
      "\u001b[1;31mAttributeError\u001b[0m: 'Person' object has no attribute '__id'"
     ]
    }
   ],
   "source": [
    "class Person:\n",
    "    company = \"clarusway\"\n",
    "\n",
    "    def __init__(self, name, age):\n",
    "        self.name = name\n",
    "        self.age = age\n",
    "\n",
    "        self._id = 5000\n",
    "        #! 👆 Bu id'yi değiştirirsen sıkıntı yaşarsın diyoruz \"_\" kullanarak. id'ye ulaşıp değiştirebiliyoruz.\n",
    "\n",
    "        self.__id = 3000\n",
    "        #! \"__\" kullanarak bu id'yi ulaşılamaz & değiştirilemez yaptık.\n",
    "\n",
    "    def __str__(self):\n",
    "        return f\"{self.name} - {self.age}\"\n",
    "\n",
    "    def get_details(self):\n",
    "        print(self.name, self.age)\n",
    "\n",
    "person1 = Person(\"Henry\", 18)\n",
    "person1._id = 4000\n",
    "\n",
    "print(person1._id) # 4000\n",
    "print(person1.__id) # ....NO ATTRIBUTE..."
   ]
  },
  {
   "cell_type": "code",
   "execution_count": 25,
   "metadata": {},
   "outputs": [
    {
     "name": "stdout",
     "output_type": "stream",
     "text": [
      "[1, 2, 3, 4, 5]\n"
     ]
    }
   ],
   "source": [
    "liste = [5,3,1,2,4]\n",
    "liste.sort()\n",
    "print(liste)"
   ]
  },
  {
   "cell_type": "code",
   "execution_count": 32,
   "metadata": {},
   "outputs": [
    {
     "name": "stdout",
     "output_type": "stream",
     "text": [
      "vic - 32 - FS\n"
     ]
    }
   ],
   "source": [
    "# inheritance & polymorphism\n",
    "\n",
    "class Person:\n",
    "    company = \"clarusway\"\n",
    "\n",
    "    def __init__(self, name, age):\n",
    "        self.name = name\n",
    "        self.age = age\n",
    "\n",
    "    def __str__(self):\n",
    "        return f\"{self.name} - {self.age}\"\n",
    "\n",
    "    def get_details(self):\n",
    "        print(self.name, self.age)\n",
    "\n",
    "class Employee(Person):\n",
    "    def __init__(self, name, age, path):\n",
    "        # self.name = name\n",
    "        # self.age = age\n",
    "        # self.path = path\n",
    "        super().__init__(name,age)\n",
    "        self.path = path\n",
    "        \n",
    "    def get_details(self):\n",
    "        print(f'{self.name} - {self.age} - {self.path}')\n",
    "        # pass\n",
    "\n",
    "emp1 = Employee(\"vic\", 32, \"FS\")\n",
    "emp1.get_details()\n",
    "    \n",
    "    "
   ]
  },
  {
   "cell_type": "code",
   "execution_count": 33,
   "metadata": {},
   "outputs": [
    {
     "name": "stdout",
     "output_type": "stream",
     "text": [
      "Victor - 32\n",
      "Victor 32 FS\n"
     ]
    }
   ],
   "source": [
    "class Person:\n",
    "    company = \"clarusway\"\n",
    "\n",
    "    def __init__(self, name, age):\n",
    "        self.name = name\n",
    "        self.age = age\n",
    "\n",
    "    def __str__(self):\n",
    "        return f\"{self.name} - {self.age}\"\n",
    "\n",
    "    def get_details(self):\n",
    "        print(self.name, self.age)\n",
    "\n",
    "class Employee(Person):\n",
    "    def __init__(self, name, age, path):\n",
    "        # self.name = name\n",
    "        # self.age = age\n",
    "\n",
    "        #! parent'taki attribute'ları super() metoduyla alabiliyoruz👇\n",
    "\n",
    "        super().__init__(name, age)\n",
    "        self.path = path\n",
    "\n",
    "    #? Parent'taki metodu ihtiyacımız doğrultusunda overwrite ederek tekrardan tanımlamış olduk 👇\n",
    "    def get_details(self):\n",
    "        print(self.name, self.age, self.path)\n",
    "\n",
    "emp1 = Employee(\"Victor\", 32, \"FS\")\n",
    "\n",
    "print(emp1) # Victor - 32\n",
    "\n",
    "emp1.get_details() # Victor 32 FS"
   ]
  },
  {
   "cell_type": "code",
   "execution_count": null,
   "metadata": {},
   "outputs": [],
   "source": []
  }
 ],
 "metadata": {
  "kernelspec": {
   "display_name": "Python 3.10.2 64-bit",
   "language": "python",
   "name": "python3"
  },
  "language_info": {
   "codemirror_mode": {
    "name": "ipython",
    "version": 3
   },
   "file_extension": ".py",
   "mimetype": "text/x-python",
   "name": "python",
   "nbconvert_exporter": "python",
   "pygments_lexer": "ipython3",
   "version": "3.10.2"
  },
  "orig_nbformat": 4,
  "vscode": {
   "interpreter": {
    "hash": "a828adae103a43d1c79162628ee5e10941f6b6aa7de279e04b795543ffd2c328"
   }
  }
 },
 "nbformat": 4,
 "nbformat_minor": 2
}
